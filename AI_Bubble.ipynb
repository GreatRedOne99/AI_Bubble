{
 "cells": [
  {
   "cell_type": "markdown",
   "id": "9788444d",
   "metadata": {},
   "source": [
    "Awesome—let’s build a markdown-ready framework to simulate SPY’s trajectory through an **AI-driven bubble** scenario by 2029. We’ll layer in:\n",
    "\n",
    "- 📍 Baseline (SPY on 11/30/2022)\n",
    "- 📈 Projected EPS growth to 2029\n",
    "- 🔁 Valuation expansion (P/E multiple)\n",
    "- 💥 Bubble vs. correction scenarios\n",
    "\n",
    "---\n",
    "\n",
    "## 🧮 SPY Valuation Simulator: AI Bubble Scenario\n",
    "\n",
    "```markdown\n",
    "# SPY Valuation Simulator: AI Bubble 2029\n",
    "\n",
    "## 📍 Baseline (as of 11/30/2022)\n",
    "- SPY Price: $407\n",
    "- S&P 500 EPS (Trailing): $220\n",
    "- Implied P/E: ~18.5×\n",
    "\n",
    "---\n",
    "\n",
    "## 📈 Projected EPS Growth to 2029\n",
    "Assume EPS grows at ~6.4% CAGR:\n",
    "\n",
    "| Year | EPS Estimate |\n",
    "|------|--------------|\n",
    "| 2022 | $220         |\n",
    "| 2023 | $234         |\n",
    "| 2024 | $249         |\n",
    "| 2025 | $265         |\n",
    "| 2026 | $282         |\n",
    "| 2027 | $300         |\n",
    "| 2028 | $310         |\n",
    "| 2029 | **$320**     |\n",
    "\n",
    "---\n",
    "\n",
    "## 🔁 Valuation Expansion Scenarios\n",
    "\n",
    "| P/E Multiple | Implied SPX | Implied SPY |\n",
    "|--------------|-------------|-------------|\n",
    "| 20×          | 6,400       | ~$720       |\n",
    "| 25×          | 8,000       | ~$900       |\n",
    "| 30× (Bubble) | 9,600       | ~$1,075     |\n",
    "| 15× (Post-Burst) | 4,800   | ~$540       |\n",
    "\n",
    "> SPY ≈ SPX ÷ 8.9 (adjusted for ETF structure)\n",
    "\n",
    "---\n",
    "\n",
    "## 💥 Bubble vs. Correction\n",
    "\n",
    "- **Bubble Peak (2029):**  \n",
    "  - EPS = $320  \n",
    "  - P/E = 30×  \n",
    "  - SPY ≈ $1,075  \n",
    "\n",
    "- **Post-Burst (2030–2031):**  \n",
    "  - EPS = $330 (modest growth)  \n",
    "  - P/E compresses to 15×  \n",
    "  - SPY ≈ $550  \n",
    "\n",
    "---\n",
    "\n",
    "## 🧠 Notes\n",
    "\n",
    "- This framework assumes no dividend reinvestment.\n",
    "- You can adjust EPS CAGR and P/E sliders to simulate different macro regimes.\n",
    "- Historical analogs:  \n",
    "  - Dot-com peak (2000): P/E ~30×  \n",
    "  - Post-crash (2002): P/E ~15×  \n",
    "  - COVID rebound (2021): P/E ~22–23×\n",
    "\n",
    "---\n",
    "\n",
    "## 🔧 Next Steps\n",
    "\n",
    "Would you like to add:\n",
    "- Python simulation code for probabilistic EPS paths?\n",
    "- Interactive sliders for P/E and macro overlays?\n",
    "- Historical chart comparisons (e.g., 2000–2002 vs. 2023–2029)?\n",
    "\n",
    "```\n",
    "\n",
    "Let’s iterate this into a reusable notebook or onboarding doc. Want to scaffold the simulation code next?"
   ]
  },
  {
   "cell_type": "code",
   "execution_count": 1,
   "id": "08c36c79",
   "metadata": {},
   "outputs": [],
   "source": [
    "import numpy as np\n",
    "import pandas as pd\n",
    "import matplotlib.pyplot as plt\n",
    "# If not already installed, run this in a cell:\n",
    "# !pip install ipywidgets\n",
    "\n",
    "import ipywidgets as widgets\n",
    "from ipywidgets import interact, FloatSlider, IntSlider\n",
    "\n",
    "\n",
    "# Baseline parameters\n",
    "baseline_year = 2022\n",
    "baseline_eps = 220\n",
    "baseline_spy = 407\n",
    "years_forward = 7\n",
    "target_year = baseline_year + years_forward\n"
   ]
  },
  {
   "cell_type": "code",
   "execution_count": 2,
   "id": "c6dac721",
   "metadata": {},
   "outputs": [
    {
     "data": {
      "application/vnd.microsoft.datawrangler.viewer.v0+json": {
       "columns": [
        {
         "name": "Year",
         "rawType": "int64",
         "type": "integer"
        },
        {
         "name": "Projected_EPS",
         "rawType": "float64",
         "type": "float"
        }
       ],
       "ref": "6aedf1a7-428a-4556-9d3f-5c9a73c37620",
       "rows": [
        [
         "2022",
         "220.0"
        ],
        [
         "2023",
         "234.08"
        ],
        [
         "2024",
         "249.06112000000005"
        ],
        [
         "2025",
         "265.00103168000004"
        ],
        [
         "2026",
         "281.9610977075201"
        ],
        [
         "2027",
         "300.0066079608014"
        ],
        [
         "2028",
         "319.20703087029267"
        ],
        [
         "2029",
         "339.63628084599145"
        ]
       ],
       "shape": {
        "columns": 1,
        "rows": 8
       }
      },
      "text/html": [
       "<div>\n",
       "<style scoped>\n",
       "    .dataframe tbody tr th:only-of-type {\n",
       "        vertical-align: middle;\n",
       "    }\n",
       "\n",
       "    .dataframe tbody tr th {\n",
       "        vertical-align: top;\n",
       "    }\n",
       "\n",
       "    .dataframe thead th {\n",
       "        text-align: right;\n",
       "    }\n",
       "</style>\n",
       "<table border=\"1\" class=\"dataframe\">\n",
       "  <thead>\n",
       "    <tr style=\"text-align: right;\">\n",
       "      <th></th>\n",
       "      <th>Projected_EPS</th>\n",
       "    </tr>\n",
       "    <tr>\n",
       "      <th>Year</th>\n",
       "      <th></th>\n",
       "    </tr>\n",
       "  </thead>\n",
       "  <tbody>\n",
       "    <tr>\n",
       "      <th>2022</th>\n",
       "      <td>220.000000</td>\n",
       "    </tr>\n",
       "    <tr>\n",
       "      <th>2023</th>\n",
       "      <td>234.080000</td>\n",
       "    </tr>\n",
       "    <tr>\n",
       "      <th>2024</th>\n",
       "      <td>249.061120</td>\n",
       "    </tr>\n",
       "    <tr>\n",
       "      <th>2025</th>\n",
       "      <td>265.001032</td>\n",
       "    </tr>\n",
       "    <tr>\n",
       "      <th>2026</th>\n",
       "      <td>281.961098</td>\n",
       "    </tr>\n",
       "    <tr>\n",
       "      <th>2027</th>\n",
       "      <td>300.006608</td>\n",
       "    </tr>\n",
       "    <tr>\n",
       "      <th>2028</th>\n",
       "      <td>319.207031</td>\n",
       "    </tr>\n",
       "    <tr>\n",
       "      <th>2029</th>\n",
       "      <td>339.636281</td>\n",
       "    </tr>\n",
       "  </tbody>\n",
       "</table>\n",
       "</div>"
      ],
      "text/plain": [
       "      Projected_EPS\n",
       "Year               \n",
       "2022     220.000000\n",
       "2023     234.080000\n",
       "2024     249.061120\n",
       "2025     265.001032\n",
       "2026     281.961098\n",
       "2027     300.006608\n",
       "2028     319.207031\n",
       "2029     339.636281"
      ]
     },
     "execution_count": 2,
     "metadata": {},
     "output_type": "execute_result"
    }
   ],
   "source": [
    "# Assume EPS grows at 6.4% CAGR\n",
    "eps_cagr = 0.064\n",
    "years = np.arange(baseline_year, target_year + 1)\n",
    "eps_projection = baseline_eps * (1 + eps_cagr) ** (years - baseline_year)\n",
    "\n",
    "eps_df = pd.DataFrame({'Year': years, 'Projected_EPS': eps_projection})\n",
    "eps_df.set_index('Year', inplace=True)\n",
    "eps_df\n"
   ]
  },
  {
   "cell_type": "code",
   "execution_count": 3,
   "id": "d2441f56",
   "metadata": {},
   "outputs": [
    {
     "data": {
      "application/vnd.microsoft.datawrangler.viewer.v0+json": {
       "columns": [
        {
         "name": "index",
         "rawType": "object",
         "type": "string"
        },
        {
         "name": "P/E 15x",
         "rawType": "float64",
         "type": "float"
        },
        {
         "name": "P/E 20x",
         "rawType": "float64",
         "type": "float"
        },
        {
         "name": "P/E 25x",
         "rawType": "float64",
         "type": "float"
        },
        {
         "name": "P/E 30x",
         "rawType": "float64",
         "type": "float"
        }
       ],
       "ref": "65b021cf-bb87-405c-b17a-4216e2a35d00",
       "rows": [
        [
         "SPX",
         "5094.5442126898715",
         "6792.725616919829",
         "8490.907021149786",
         "10189.088425379743"
        ],
        [
         "SPY",
         "572.4206980550417",
         "763.2275974067223",
         "954.0344967584028",
         "1144.8413961100835"
        ]
       ],
       "shape": {
        "columns": 4,
        "rows": 2
       }
      },
      "text/html": [
       "<div>\n",
       "<style scoped>\n",
       "    .dataframe tbody tr th:only-of-type {\n",
       "        vertical-align: middle;\n",
       "    }\n",
       "\n",
       "    .dataframe tbody tr th {\n",
       "        vertical-align: top;\n",
       "    }\n",
       "\n",
       "    .dataframe thead th {\n",
       "        text-align: right;\n",
       "    }\n",
       "</style>\n",
       "<table border=\"1\" class=\"dataframe\">\n",
       "  <thead>\n",
       "    <tr style=\"text-align: right;\">\n",
       "      <th></th>\n",
       "      <th>P/E 15x</th>\n",
       "      <th>P/E 20x</th>\n",
       "      <th>P/E 25x</th>\n",
       "      <th>P/E 30x</th>\n",
       "    </tr>\n",
       "  </thead>\n",
       "  <tbody>\n",
       "    <tr>\n",
       "      <th>SPX</th>\n",
       "      <td>5094.544213</td>\n",
       "      <td>6792.725617</td>\n",
       "      <td>8490.907021</td>\n",
       "      <td>10189.088425</td>\n",
       "    </tr>\n",
       "    <tr>\n",
       "      <th>SPY</th>\n",
       "      <td>572.420698</td>\n",
       "      <td>763.227597</td>\n",
       "      <td>954.034497</td>\n",
       "      <td>1144.841396</td>\n",
       "    </tr>\n",
       "  </tbody>\n",
       "</table>\n",
       "</div>"
      ],
      "text/plain": [
       "         P/E 15x      P/E 20x      P/E 25x       P/E 30x\n",
       "SPX  5094.544213  6792.725617  8490.907021  10189.088425\n",
       "SPY   572.420698   763.227597   954.034497   1144.841396"
      ]
     },
     "execution_count": 3,
     "metadata": {},
     "output_type": "execute_result"
    }
   ],
   "source": [
    "# Define P/E multiples to simulate\n",
    "pe_multiples = [15, 20, 25, 30]\n",
    "spy_multiplier = 1 / 8.9  # SPY ≈ SPX / 8.9\n",
    "\n",
    "valuation_df = pd.DataFrame({\n",
    "    f'P/E {pe}x': eps_df['Projected_EPS'][target_year] * pe for pe in pe_multiples\n",
    "}, index=['SPX'])\n",
    "\n",
    "valuation_df.loc['SPY'] = valuation_df.loc['SPX'] * spy_multiplier\n",
    "valuation_df\n"
   ]
  },
  {
   "cell_type": "code",
   "execution_count": 4,
   "id": "e2c68ac7",
   "metadata": {},
   "outputs": [
    {
     "data": {
      "image/png": "[encoded data removed]",
      "text/plain": [
       "<Figure size 1000x600 with 1 Axes>"
      ]
     },
     "metadata": {},
     "output_type": "display_data"
    }
   ],
   "source": [
    "plt.figure(figsize=(10, 6))\n",
    "for pe in pe_multiples:\n",
    "    spx_vals = eps_projection * pe\n",
    "    spy_vals = spx_vals * spy_multiplier\n",
    "    plt.plot(years, spy_vals, label=f'P/E {pe}x')\n",
    "\n",
    "plt.axhline(y=baseline_spy, color='gray', linestyle='--', label='2022 SPY Baseline')\n",
    "plt.title('SPY Price Projection: AI Bubble vs. Valuation Compression')\n",
    "plt.xlabel('Year')\n",
    "plt.ylabel('SPY Price')\n",
    "plt.legend()\n",
    "plt.grid(True)\n",
    "plt.tight_layout()\n",
    "plt.show()\n"
   ]
  },
  {
   "cell_type": "code",
   "execution_count": 5,
   "id": "040d23a8",
   "metadata": {},
   "outputs": [],
   "source": [
    "def spy_projection(eps_cagr=0.064, pe_ratio=25):\n",
    "    years = np.arange(baseline_year, target_year + 1)\n",
    "    eps_projection = baseline_eps * (1 + eps_cagr) ** (years - baseline_year)\n",
    "    spx_projection = eps_projection * pe_ratio\n",
    "    spy_projection = spx_projection * spy_multiplier\n",
    "\n",
    "    plt.figure(figsize=(10, 6))\n",
    "    plt.plot(years, spy_projection, marker='o', label=f'P/E {pe_ratio}×')\n",
    "    plt.axhline(y=baseline_spy, color='gray', linestyle='--', label='2022 SPY Baseline')\n",
    "    plt.title('SPY Price Projection with Adjustable EPS CAGR and P/E')\n",
    "    plt.xlabel('Year')\n",
    "    plt.ylabel('SPY Price')\n",
    "    plt.legend()\n",
    "    plt.grid(True)\n",
    "    plt.tight_layout()\n",
    "    plt.show()\n",
    "\n",
    "    final_price = spy_projection[-1]\n",
    "    print(f\"Projected SPY Price in {target_year} with EPS CAGR {eps_cagr:.2%} and P/E {pe_ratio}×: ${final_price:.2f}\")\n"
   ]
  },
  {
   "cell_type": "code",
   "execution_count": 6,
   "id": "f0b0e403",
   "metadata": {},
   "outputs": [
    {
     "data": {
      "application/vnd.jupyter.widget-view+json": {
       "model_id": "45ff7adafdb046339732d2cb8dcfcad8",
       "version_major": 2,
       "version_minor": 0
      },
      "text/plain": [
       "interactive(children=(FloatSlider(value=0.064, description='EPS CAGR', max=0.1, min=0.03, step=0.005), IntSlid…"
      ]
     },
     "metadata": {},
     "output_type": "display_data"
    },
    {
     "data": {
      "text/plain": [
       "<function __main__.spy_projection(eps_cagr=0.064, pe_ratio=25)>"
      ]
     },
     "execution_count": 6,
     "metadata": {},
     "output_type": "execute_result"
    }
   ],
   "source": [
    "interact(\n",
    "    spy_projection,\n",
    "    eps_cagr=FloatSlider(value=0.064, min=0.03, max=0.10, step=0.005, description='EPS CAGR'),\n",
    "    pe_ratio=IntSlider(value=25, min=10, max=35, step=1, description='P/E Ratio')\n",
    ")\n"
   ]
  },
  {
   "cell_type": "code",
   "execution_count": 7,
   "id": "b1c08b91",
   "metadata": {},
   "outputs": [],
   "source": [
    "def simulate_eps_paths(\n",
    "    baseline_eps=220,\n",
    "    years=7,\n",
    "    n_simulations=1000,\n",
    "    mean_growth=0.064,\n",
    "    std_dev=0.02\n",
    "):\n",
    "    np.random.seed(42)\n",
    "    eps_paths = np.zeros((n_simulations, years + 1))\n",
    "    eps_paths[:, 0] = baseline_eps\n",
    "\n",
    "    for t in range(1, years + 1):\n",
    "        growth_rates = np.random.normal(mean_growth, std_dev, n_simulations)\n",
    "        eps_paths[:, t] = eps_paths[:, t - 1] * (1 + growth_rates)\n",
    "\n",
    "    return eps_paths\n"
   ]
  },
  {
   "cell_type": "code",
   "execution_count": 8,
   "id": "7346316b",
   "metadata": {},
   "outputs": [],
   "source": [
    "def spy_price_distribution(eps_paths, pe_ratio=30):\n",
    "    final_eps = eps_paths[:, -1]\n",
    "    final_spx = final_eps * pe_ratio\n",
    "    final_spy = final_spx * spy_multiplier\n",
    "    return final_spy\n"
   ]
  },
  {
   "cell_type": "code",
   "execution_count": 9,
   "id": "cb9a3c23",
   "metadata": {},
   "outputs": [],
   "source": [
    "def plot_spy_distribution(spy_prices, pe_ratio):\n",
    "    plt.figure(figsize=(10, 6))\n",
    "    plt.hist(spy_prices, bins=50, color='skyblue', edgecolor='black')\n",
    "    plt.title(f'SPY Price Distribution in {target_year} (P/E {pe_ratio}×)')\n",
    "    plt.xlabel('SPY Price')\n",
    "    plt.ylabel('Frequency')\n",
    "    plt.axvline(x=np.mean(spy_prices), color='red', linestyle='--', label=f'Mean: ${np.mean(spy_prices):.2f}')\n",
    "    plt.legend()\n",
    "    plt.grid(True)\n",
    "    plt.tight_layout()\n",
    "    plt.show()\n"
   ]
  },
  {
   "cell_type": "code",
   "execution_count": 10,
   "id": "6a88d3f4",
   "metadata": {},
   "outputs": [
    {
     "data": {
      "image/png": "[encoded data removed]",
      "text/plain": [
       "<Figure size 1000x600 with 1 Axes>"
      ]
     },
     "metadata": {},
     "output_type": "display_data"
    }
   ],
   "source": [
    "# Simulate EPS paths\n",
    "eps_paths = simulate_eps_paths()\n",
    "\n",
    "# Calculate SPY prices under bubble P/E\n",
    "spy_prices_bubble = spy_price_distribution(eps_paths, pe_ratio=30)\n",
    "\n",
    "# Plot the distribution\n",
    "plot_spy_distribution(spy_prices_bubble, pe_ratio=30)\n"
   ]
  },
  {
   "cell_type": "code",
   "execution_count": 11,
   "id": "7330b3cb",
   "metadata": {},
   "outputs": [],
   "source": [
    "def interactive_simulation(mean_growth=0.064, std_dev=0.02, pe_ratio=30):\n",
    "    # Simulate EPS paths\n",
    "    eps_paths = simulate_eps_paths(\n",
    "        baseline_eps=baseline_eps,\n",
    "        years=years_forward,\n",
    "        n_simulations=1000,\n",
    "        mean_growth=mean_growth,\n",
    "        std_dev=std_dev\n",
    "    )\n",
    "\n",
    "    # Calculate SPY prices\n",
    "    spy_prices = spy_price_distribution(eps_paths, pe_ratio=pe_ratio)\n",
    "\n",
    "    # Plot distribution\n",
    "    plot_spy_distribution(spy_prices, pe_ratio)\n",
    "\n",
    "    # Summary stats\n",
    "    print(f\"Mean SPY Price: ${np.mean(spy_prices):.2f}\")\n",
    "    print(f\"Median SPY Price: ${np.median(spy_prices):.2f}\")\n",
    "    print(f\"95% Confidence Interval: ${np.percentile(spy_prices, 2.5):.2f} – ${np.percentile(spy_prices, 97.5):.2f}\")\n"
   ]
  },
  {
   "cell_type": "code",
   "execution_count": 12,
   "id": "0da5b5a9",
   "metadata": {},
   "outputs": [
    {
     "data": {
      "application/vnd.jupyter.widget-view+json": {
       "model_id": "261cfdc007f841d99789a63f5b23a417",
       "version_major": 2,
       "version_minor": 0
      },
      "text/plain": [
       "interactive(children=(FloatSlider(value=0.064, description='EPS CAGR', max=0.1, min=0.03, step=0.005), FloatSl…"
      ]
     },
     "metadata": {},
     "output_type": "display_data"
    },
    {
     "data": {
      "text/plain": [
       "<function __main__.interactive_simulation(mean_growth=0.064, std_dev=0.02, pe_ratio=30)>"
      ]
     },
     "execution_count": 12,
     "metadata": {},
     "output_type": "execute_result"
    }
   ],
   "source": [
    "interact(\n",
    "    interactive_simulation,\n",
    "    mean_growth=FloatSlider(value=0.064, min=0.03, max=0.10, step=0.005, description='EPS CAGR'),\n",
    "    std_dev=FloatSlider(value=0.02, min=0.005, max=0.05, step=0.005, description='Volatility'),\n",
    "    pe_ratio=IntSlider(value=30, min=10, max=35, step=1, description='P/E Ratio')\n",
    ")\n"
   ]
  },
  {
   "cell_type": "code",
   "execution_count": null,
   "id": "4b569caa",
   "metadata": {},
   "outputs": [],
   "source": []
  }
 ],
 "metadata": {
  "kernelspec": {
   "display_name": "CeCodeAI",
   "language": "python",
   "name": "python3"
  },
  "language_info": {
   "codemirror_mode": {
    "name": "ipython",
    "version": 3
   },
   "file_extension": ".py",
   "mimetype": "text/x-python",
   "name": "python",
   "nbconvert_exporter": "python",
   "pygments_lexer": "ipython3",
   "version": "3.11.11"
  }
 },
 "nbformat": 4,
 "nbformat_minor": 5
}
